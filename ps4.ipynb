{
 "cells": [
  {
   "cell_type": "code",
   "execution_count": 1,
   "id": "cce1941e-1e3f-4667-9966-5b14fbee9481",
   "metadata": {
    "scrolled": true
   },
   "outputs": [
    {
     "name": "stdout",
     "output_type": "stream",
     "text": [
      "WARNING:tensorflow:From C:\\Python311\\Lib\\site-packages\\keras\\src\\losses.py:2976: The name tf.losses.sparse_softmax_cross_entropy is deprecated. Please use tf.compat.v1.losses.sparse_softmax_cross_entropy instead.\n",
      "\n"
     ]
    }
   ],
   "source": [
    "import numpy as np\n",
    "import pandas as pd\n",
    "from sklearn.metrics import classification_report\n",
    "from tensorflow.keras import layers\n",
    "from tensorflow.keras import optimizers,datasets, models\n",
    "import matplotlib.pyplot as plt"
   ]
  },
  {
   "cell_type": "code",
   "execution_count": 2,
   "id": "851d782c-fbdd-4476-a23b-56053a0122de",
   "metadata": {},
   "outputs": [],
   "source": [
    "train_data=pd.read_csv(\"CIFR(Ass2&3)/train_data.csv\")\n",
    "test_data=pd.read_csv(\"CIFR(Ass2&3)/test_data.csv\")\n",
    "x_train=train_data.drop(\"label\",axis=1).values\n",
    "\n",
    "x_test=test_data.drop(\"label\",axis=1).values\n",
    "\n",
    "y_train=train_data[\"label\"].values\n",
    "y_test=test_data[\"label\"].values\n",
    "x_train = x_train.astype(\"float32\") / 255.0\n",
    "x_test = x_test.astype(\"float32\") / 255.0\n"
   ]
  },
  {
   "cell_type": "code",
   "execution_count": 6,
   "id": "99f7a873-46ac-4227-ae79-bfa25e9542d9",
   "metadata": {},
   "outputs": [],
   "source": [
    "x_train=x_train.reshape(50000,32,32,3)\n",
    "x_test=x_test.reshape(10000,32,32,3)"
   ]
  },
  {
   "cell_type": "code",
   "execution_count": 7,
   "id": "e4dc5f92-eeb0-4b57-a0ed-05c1bff20682",
   "metadata": {},
   "outputs": [],
   "source": [
    "model=models.Sequential()\n",
    "model.add(layers.Conv2D(128,(3,3),activation=\"relu\",input_shape=(32,32,3)))\n",
    "model.add(layers.MaxPooling2D(2,2))\n",
    "model.add(layers.Conv2D(64,(3,3),activation=\"relu\"))\n",
    "model.add(layers.MaxPooling2D(2,2))\n",
    "model.add(layers.Conv2D(64,(3,3),activation=\"relu\"))\n",
    "model.add(layers.Flatten())\n",
    "model.add(layers.Dense(128,activation=\"relu\"))\n",
    "model.add(layers.Dense(10,activation=\"softmax\"))"
   ]
  },
  {
   "cell_type": "code",
   "execution_count": null,
   "id": "fb3ed56c-2189-4e5c-9be2-6a495622911c",
   "metadata": {},
   "outputs": [
    {
     "name": "stdout",
     "output_type": "stream",
     "text": [
      "391/391 [==============================] - ETA: 0s - loss: 1.9868 - accuracy: 0.2667"
     ]
    }
   ],
   "source": [
    "adm=optimizers.Adam(0.01)\n",
    "model.compile(optimizer=adm,metrics=[\"accuracy\"],loss=\"sparse_categorical_crossentropy\")\n",
    "tf=model.fit(x_train,y_train,validation_data=(x_test,y_test),epochs=1,batch_size=128)"
   ]
  },
  {
   "cell_type": "code",
   "execution_count": null,
   "id": "80cfb826-5f9b-4dd7-ae0d-264802f3f2e7",
   "metadata": {},
   "outputs": [],
   "source": []
  }
 ],
 "metadata": {
  "kernelspec": {
   "display_name": "Python 3 (ipykernel)",
   "language": "python",
   "name": "python3"
  },
  "language_info": {
   "codemirror_mode": {
    "name": "ipython",
    "version": 3
   },
   "file_extension": ".py",
   "mimetype": "text/x-python",
   "name": "python",
   "nbconvert_exporter": "python",
   "pygments_lexer": "ipython3",
   "version": "3.11.3"
  }
 },
 "nbformat": 4,
 "nbformat_minor": 5
}
